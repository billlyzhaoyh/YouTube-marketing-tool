{
 "cells": [
  {
   "cell_type": "markdown",
   "metadata": {},
   "source": [
    "# Train a category classifer: given the description of the YouTube video and predict which of the six categories it belong to"
   ]
  },
  {
   "cell_type": "markdown",
   "metadata": {},
   "source": [
    "## Data Prep"
   ]
  },
  {
   "cell_type": "code",
   "execution_count": 5,
   "metadata": {},
   "outputs": [],
   "source": [
    "import pandas as pd"
   ]
  },
  {
   "cell_type": "code",
   "execution_count": 6,
   "metadata": {},
   "outputs": [],
   "source": [
    "data_path='./six_cat_train.csv'\n",
    "df=pd.read_csv(data_path)"
   ]
  },
  {
   "cell_type": "code",
   "execution_count": 7,
   "metadata": {},
   "outputs": [],
   "source": [
    "category_EN={'1': 'Film & Animation',\n",
    " '2': 'Autos & Vehicles',\n",
    " '10': 'Music',\n",
    " '15': 'Pets & Animals',\n",
    " '17': 'Sports',\n",
    " '18': 'Short Movies',\n",
    " '19': 'Travel & Events',\n",
    " '20': 'Gaming',\n",
    " '21': 'Videoblogging',\n",
    " '22': 'People & Blogs',\n",
    " '23': 'Comedy',\n",
    " '24': 'Entertainment',\n",
    " '25': 'News & Politics',\n",
    " '26': 'Howto & Style',\n",
    " '27': 'Education',\n",
    " '28': 'Science & Technology',\n",
    " '30': 'Movies',\n",
    " '31': 'Anime/Animation',\n",
    " '32': 'Action/Adventure',\n",
    " '33': 'Classics',\n",
    " '34': 'Comedy',\n",
    " '35': 'Documentary',\n",
    " '36': 'Drama',\n",
    " '37': 'Family',\n",
    " '38': 'Foreign',\n",
    " '39': 'Horror',\n",
    " '40': 'Sci-Fi/Fantasy',\n",
    " '41': 'Thriller',\n",
    " '42': 'Shorts',\n",
    " '43': 'Shows',\n",
    " '44': 'Trailers',\n",
    " '29': 'Nonprofits & Activism'}"
   ]
  },
  {
   "cell_type": "code",
   "execution_count": 8,
   "metadata": {},
   "outputs": [],
   "source": [
    "id_train=[24,25,22,10,17,23]\n",
    "id_train_label={24:0,25:1,22:2,10:3,17:4,23:5}\n",
    "category_six=[]\n",
    "for id_ in id_train:\n",
    "    category_six.append(category_EN[str(id_)])"
   ]
  },
  {
   "cell_type": "code",
   "execution_count": 9,
   "metadata": {},
   "outputs": [],
   "source": [
    "six_cat_train=df.dropna(subset=['category_id'])"
   ]
  },
  {
   "cell_type": "code",
   "execution_count": 10,
   "metadata": {},
   "outputs": [],
   "source": [
    "label=[]\n",
    "for cid in six_cat_train.category_id:\n",
    "    label.append(id_train_label[cid])"
   ]
  },
  {
   "cell_type": "code",
   "execution_count": 11,
   "metadata": {},
   "outputs": [
    {
     "name": "stderr",
     "output_type": "stream",
     "text": [
      "/Users/billyzhaoyh/.local/lib/python3.7/site-packages/ipykernel_launcher.py:1: SettingWithCopyWarning: \n",
      "A value is trying to be set on a copy of a slice from a DataFrame.\n",
      "Try using .loc[row_indexer,col_indexer] = value instead\n",
      "\n",
      "See the caveats in the documentation: https://pandas.pydata.org/pandas-docs/stable/user_guide/indexing.html#returning-a-view-versus-a-copy\n",
      "  \"\"\"Entry point for launching an IPython kernel.\n"
     ]
    }
   ],
   "source": [
    "six_cat_train['label']=label"
   ]
  },
  {
   "cell_type": "markdown",
   "metadata": {},
   "source": [
    "## Split into train and test set"
   ]
  },
  {
   "cell_type": "code",
   "execution_count": 14,
   "metadata": {},
   "outputs": [],
   "source": [
    "from sklearn.model_selection import train_test_split"
   ]
  },
  {
   "cell_type": "code",
   "execution_count": 15,
   "metadata": {},
   "outputs": [],
   "source": [
    "#compare if descriptions are better\n",
    "X_train, X_test, y_train, y_test = train_test_split(six_cat_train.description.tolist(), six_cat_train.label.tolist(), test_size=0.2, random_state=42)"
   ]
  },
  {
   "cell_type": "markdown",
   "metadata": {},
   "source": [
    "## Use multinomial naive bayes and svm as bench mark algorithms"
   ]
  },
  {
   "cell_type": "code",
   "execution_count": 21,
   "metadata": {},
   "outputs": [],
   "source": [
    "from sklearn.feature_extraction.text import CountVectorizer\n",
    "from sklearn.feature_extraction.text import TfidfTransformer\n",
    "from sklearn.pipeline import Pipeline\n",
    "from sklearn.naive_bayes import MultinomialNB\n",
    "from sklearn.linear_model import SGDClassifier\n",
    "import numpy as np"
   ]
  },
  {
   "cell_type": "code",
   "execution_count": 17,
   "metadata": {},
   "outputs": [],
   "source": [
    "text_clf_nb = Pipeline([\n",
    "     ('vect', CountVectorizer()),\n",
    "    ('tfidf', TfidfTransformer()),\n",
    "     ('clf', MultinomialNB()),\n",
    "])"
   ]
  },
  {
   "cell_type": "code",
   "execution_count": 22,
   "metadata": {},
   "outputs": [
    {
     "data": {
      "text/plain": [
       "0.610857432775241"
      ]
     },
     "execution_count": 22,
     "metadata": {},
     "output_type": "execute_result"
    }
   ],
   "source": [
    "text_clf_nb.fit(X_train, y_train)\n",
    "predicted = text_clf_nb.predict(X_test)\n",
    "np.mean(predicted == y_test)"
   ]
  },
  {
   "cell_type": "code",
   "execution_count": 23,
   "metadata": {},
   "outputs": [
    {
     "name": "stdout",
     "output_type": "stream",
     "text": [
      "                 precision    recall  f1-score   support\n",
      "\n",
      "  Entertainment       0.53      0.99      0.69      1680\n",
      "News & Politics       0.94      0.37      0.53       568\n",
      " People & Blogs       1.00      0.15      0.27       458\n",
      "          Music       0.98      0.25      0.40       434\n",
      "         Sports       0.95      0.53      0.68       411\n",
      "         Comedy       0.96      0.35      0.51       391\n",
      "\n",
      "       accuracy                           0.61      3942\n",
      "      macro avg       0.89      0.44      0.51      3942\n",
      "   weighted avg       0.78      0.61      0.57      3942\n",
      "\n"
     ]
    }
   ],
   "source": [
    "print(metrics.classification_report(y_test, predicted,target_names=category_six))"
   ]
  },
  {
   "cell_type": "code",
   "execution_count": 24,
   "metadata": {},
   "outputs": [],
   "source": [
    "text_clf_svm = Pipeline([\n",
    "     ('vect', CountVectorizer()),\n",
    "     ('tfidf', TfidfTransformer()),\n",
    "     ('clf', SGDClassifier(loss='hinge', penalty='l2',\n",
    "                           alpha=1e-3, random_state=42,\n",
    "                           max_iter=5, tol=None)),\n",
    "])\n",
    "\n"
   ]
  },
  {
   "cell_type": "code",
   "execution_count": 25,
   "metadata": {},
   "outputs": [
    {
     "data": {
      "text/plain": [
       "0.7886859462201928"
      ]
     },
     "execution_count": 25,
     "metadata": {},
     "output_type": "execute_result"
    }
   ],
   "source": [
    "text_clf_svm.fit(X_train, y_train)\n",
    "predicted = text_clf_svm.predict(X_test)\n",
    "np.mean(predicted == y_test)"
   ]
  },
  {
   "cell_type": "code",
   "execution_count": 26,
   "metadata": {},
   "outputs": [
    {
     "name": "stdout",
     "output_type": "stream",
     "text": [
      "                 precision    recall  f1-score   support\n",
      "\n",
      "  Entertainment       0.71      0.96      0.82      1680\n",
      "News & Politics       0.88      0.74      0.80       568\n",
      " People & Blogs       0.93      0.33      0.49       458\n",
      "          Music       0.86      0.83      0.85       434\n",
      "         Sports       0.90      0.79      0.84       411\n",
      "         Comedy       0.93      0.62      0.75       391\n",
      "\n",
      "       accuracy                           0.79      3942\n",
      "      macro avg       0.87      0.71      0.76      3942\n",
      "   weighted avg       0.82      0.79      0.78      3942\n",
      "\n"
     ]
    }
   ],
   "source": [
    "print(metrics.classification_report(y_test, predicted,target_names=category_six))"
   ]
  },
  {
   "cell_type": "markdown",
   "metadata": {},
   "source": [
    "## Using deep learning to boost the performance (distilbert)"
   ]
  },
  {
   "cell_type": "code",
   "execution_count": 2,
   "metadata": {},
   "outputs": [],
   "source": [
    "import ktrain\n",
    "from ktrain import text"
   ]
  },
  {
   "cell_type": "code",
   "execution_count": 10,
   "metadata": {},
   "outputs": [
    {
     "name": "stderr",
     "output_type": "stream",
     "text": [
      "/usr/local/lib/python3.6/dist-packages/ktrain/text/preprocessor.py:367: UserWarning: The class_names argument is replacing the classes argument. Please update your code.\n",
      "  warnings.warn('The class_names argument is replacing the classes argument. Please update your code.')\n"
     ]
    },
    {
     "name": "stdout",
     "output_type": "stream",
     "text": [
      "preprocessing train...\n",
      "language: en\n",
      "train sequence lengths:\n",
      "\tmean : 109\n",
      "\t95percentile : 310\n",
      "\t99percentile : 490\n"
     ]
    },
    {
     "data": {
      "text/html": [],
      "text/plain": [
       "<IPython.core.display.HTML object>"
      ]
     },
     "metadata": {},
     "output_type": "display_data"
    },
    {
     "name": "stdout",
     "output_type": "stream",
     "text": [
      "preprocessing test...\n",
      "language: en\n",
      "test sequence lengths:\n",
      "\tmean : 108\n",
      "\t95percentile : 306\n",
      "\t99percentile : 515\n"
     ]
    },
    {
     "data": {
      "text/html": [],
      "text/plain": [
       "<IPython.core.display.HTML object>"
      ]
     },
     "metadata": {},
     "output_type": "display_data"
    }
   ],
   "source": [
    "MODEL_NAME = 'distilbert-base-uncased'\n",
    "t = text.Transformer(MODEL_NAME, maxlen=500, classes=category_six)\n",
    "trn = t.preprocess_train(X_train, y_train)\n",
    "val = t.preprocess_test(X_test, y_test)\n",
    "model = t.get_classifier()\n",
    "learner = ktrain.get_learner(model, train_data=trn, val_data=val, batch_size=6)"
   ]
  },
  {
   "cell_type": "code",
   "execution_count": 28,
   "metadata": {},
   "outputs": [
    {
     "name": "stdout",
     "output_type": "stream",
     "text": [
      "simulating training for different learning rates... this may take a few moments...\n",
      "Train for 2627 steps\n",
      "Epoch 1/2\n",
      "2627/2627 [==============================] - 1956s 745ms/step - loss: 1.3469 - accuracy: 0.5023\n",
      "Epoch 2/2\n",
      "2478/2627 [===========================>..] - ETA: 1:50 - loss: 1.7898 - accuracy: 0.3874\n",
      "\n",
      "done.\n",
      "Visually inspect loss plot and select learning rate associated with falling loss\n"
     ]
    },
    {
     "data": {
      "image/png": "[encoded data removed]",
      "text/plain": [
       "<Figure size 432x288 with 1 Axes>"
      ]
     },
     "metadata": {
      "needs_background": "light"
     },
     "output_type": "display_data"
    }
   ],
   "source": [
    "learner.lr_find(show_plot=True,max_epochs=2)"
   ]
  },
  {
   "cell_type": "code",
   "execution_count": 11,
   "metadata": {},
   "outputs": [
    {
     "name": "stdout",
     "output_type": "stream",
     "text": [
      "\n",
      "\n",
      "begin training using onecycle policy with max lr of 0.0001...\n",
      "Train for 2628 steps, validate for 124 steps\n",
      "Epoch 1/4\n",
      "2628/2628 [==============================] - 2104s 801ms/step - loss: 0.7972 - accuracy: 0.7292 - val_loss: 0.5444 - val_accuracy: 0.8196\n",
      "Epoch 2/4\n",
      "2628/2628 [==============================] - 2092s 796ms/step - loss: 0.5138 - accuracy: 0.8315 - val_loss: 0.4996 - val_accuracy: 0.8427\n",
      "Epoch 3/4\n",
      "2628/2628 [==============================] - 2091s 796ms/step - loss: 0.3475 - accuracy: 0.8918 - val_loss: 0.4400 - val_accuracy: 0.8590\n",
      "Epoch 4/4\n",
      "2628/2628 [==============================] - 2092s 796ms/step - loss: 0.1463 - accuracy: 0.9541 - val_loss: 0.4495 - val_accuracy: 0.8683\n"
     ]
    },
    {
     "data": {
      "text/plain": [
       "<tensorflow.python.keras.callbacks.History at 0x7fd180264588>"
      ]
     },
     "execution_count": 11,
     "metadata": {},
     "output_type": "execute_result"
    }
   ],
   "source": [
    "learner.fit_onecycle(1e-4, 4)"
   ]
  },
  {
   "cell_type": "code",
   "execution_count": 15,
   "metadata": {},
   "outputs": [
    {
     "name": "stdout",
     "output_type": "stream",
     "text": [
      "                 precision    recall  f1-score   support\n",
      "\n",
      "  Entertainment       0.87      0.91      0.89      1680\n",
      "News & Politics       0.91      0.87      0.89       568\n",
      " People & Blogs       0.75      0.70      0.72       458\n",
      "          Music       0.89      0.89      0.89       434\n",
      "         Sports       0.93      0.88      0.91       411\n",
      "         Comedy       0.84      0.83      0.84       391\n",
      "\n",
      "       accuracy                           0.87      3942\n",
      "      macro avg       0.86      0.85      0.86      3942\n",
      "   weighted avg       0.87      0.87      0.87      3942\n",
      "\n"
     ]
    },
    {
     "data": {
      "text/plain": [
       "array([[1533,   23,   57,   29,   10,   28],\n",
       "       [  54,  493,   17,    0,    2,    2],\n",
       "       [  79,   16,  322,   12,   11,   18],\n",
       "       [  24,    2,   10,  387,    3,    8],\n",
       "       [  21,    5,   15,    2,  363,    5],\n",
       "       [  46,    1,   11,    6,    2,  325]])"
      ]
     },
     "execution_count": 15,
     "metadata": {},
     "output_type": "execute_result"
    }
   ],
   "source": [
    "learner.validate(class_names=t.get_classes())"
   ]
  },
  {
   "cell_type": "code",
   "execution_count": 16,
   "metadata": {},
   "outputs": [
    {
     "name": "stdout",
     "output_type": "stream",
     "text": [
      "----------\n",
      "id:2730 | loss:9.92 | true:Comedy | pred:Entertainment)\n",
      "\n"
     ]
    }
   ],
   "source": [
    "learner.view_top_losses(n=1, preproc=t)"
   ]
  },
  {
   "cell_type": "code",
   "execution_count": 17,
   "metadata": {},
   "outputs": [],
   "source": [
    "predictor = ktrain.get_predictor(learner.model, preproc=t)\n",
    "predictor.save('./distilbert')"
   ]
  },
  {
   "cell_type": "code",
   "execution_count": 2,
   "metadata": {},
   "outputs": [],
   "source": [
    "reloaded_predictor = ktrain.load_predictor('./distilbert')"
   ]
  }
 ],
 "metadata": {
  "kernelspec": {
   "display_name": "Python 3",
   "language": "python",
   "name": "python3"
  },
  "language_info": {
   "codemirror_mode": {
    "name": "ipython",
    "version": 3
   },
   "file_extension": ".py",
   "mimetype": "text/x-python",
   "name": "python",
   "nbconvert_exporter": "python",
   "pygments_lexer": "ipython3",
   "version": "3.7.6"
  }
 },
 "nbformat": 4,
 "nbformat_minor": 4
}
