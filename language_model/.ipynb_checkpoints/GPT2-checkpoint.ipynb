{
 "cells": [
  {
   "cell_type": "markdown",
   "metadata": {},
   "source": [
    "# Finetuning a GPT2 model to generate YouTube video description data from YouTube title "
   ]
  },
  {
   "cell_type": "markdown",
   "metadata": {},
   "source": [
    "## limitation: the data set is quite small so after three epochs some overfitting behaviours start to emerge"
   ]
  },
  {
   "cell_type": "code",
   "execution_count": 1,
   "metadata": {
    "colab": {
     "base_uri": "https://localhost:8080/",
     "height": 683
    },
    "colab_type": "code",
    "id": "gWNVnJ0po_02",
    "outputId": "40d49fbc-456e-4973-c8bc-ba7507a8130a"
   },
   "outputs": [
    {
     "name": "stdout",
     "output_type": "stream",
     "text": [
      "Collecting transformers\n",
      "\u001b[?25l  Downloading https://files.pythonhosted.org/packages/a3/78/92cedda05552398352ed9784908b834ee32a0bd071a9b32de287327370b7/transformers-2.8.0-py3-none-any.whl (563kB)\n",
      "\u001b[K     |████████████████████████████████| 573kB 2.7MB/s \n",
      "\u001b[?25hCollecting sacremoses\n",
      "\u001b[?25l  Downloading https://files.pythonhosted.org/packages/7d/34/09d19aff26edcc8eb2a01bed8e98f13a1537005d31e95233fd48216eed10/sacremoses-0.0.43.tar.gz (883kB)\n",
      "\u001b[K     |████████████████████████████████| 890kB 13.0MB/s \n",
      "\u001b[?25hRequirement already satisfied: requests in /usr/local/lib/python3.6/dist-packages (from transformers) (2.23.0)\n",
      "Requirement already satisfied: dataclasses; python_version < \"3.7\" in /usr/local/lib/python3.6/dist-packages (from transformers) (0.7)\n",
      "Collecting tokenizers==0.5.2\n",
      "\u001b[?25l  Downloading https://files.pythonhosted.org/packages/d1/3f/73c881ea4723e43c1e9acf317cf407fab3a278daab3a69c98dcac511c04f/tokenizers-0.5.2-cp36-cp36m-manylinux1_x86_64.whl (3.7MB)\n",
      "\u001b[K     |████████████████████████████████| 3.7MB 19.4MB/s \n",
      "\u001b[?25hRequirement already satisfied: filelock in /usr/local/lib/python3.6/dist-packages (from transformers) (3.0.12)\n",
      "Requirement already satisfied: tqdm>=4.27 in /usr/local/lib/python3.6/dist-packages (from transformers) (4.38.0)\n",
      "Collecting sentencepiece\n",
      "\u001b[?25l  Downloading https://files.pythonhosted.org/packages/98/2c/8df20f3ac6c22ac224fff307ebc102818206c53fc454ecd37d8ac2060df5/sentencepiece-0.1.86-cp36-cp36m-manylinux1_x86_64.whl (1.0MB)\n",
      "\u001b[K     |████████████████████████████████| 1.0MB 44.0MB/s \n",
      "\u001b[?25hRequirement already satisfied: numpy in /usr/local/lib/python3.6/dist-packages (from transformers) (1.18.3)\n",
      "Requirement already satisfied: regex!=2019.12.17 in /usr/local/lib/python3.6/dist-packages (from transformers) (2019.12.20)\n",
      "Requirement already satisfied: boto3 in /usr/local/lib/python3.6/dist-packages (from transformers) (1.12.47)\n",
      "Requirement already satisfied: six in /usr/local/lib/python3.6/dist-packages (from sacremoses->transformers) (1.12.0)\n",
      "Requirement already satisfied: click in /usr/local/lib/python3.6/dist-packages (from sacremoses->transformers) (7.1.2)\n",
      "Requirement already satisfied: joblib in /usr/local/lib/python3.6/dist-packages (from sacremoses->transformers) (0.14.1)\n",
      "Requirement already satisfied: certifi>=2017.4.17 in /usr/local/lib/python3.6/dist-packages (from requests->transformers) (2020.4.5.1)\n",
      "Requirement already satisfied: chardet<4,>=3.0.2 in /usr/local/lib/python3.6/dist-packages (from requests->transformers) (3.0.4)\n",
      "Requirement already satisfied: idna<3,>=2.5 in /usr/local/lib/python3.6/dist-packages (from requests->transformers) (2.9)\n",
      "Requirement already satisfied: urllib3!=1.25.0,!=1.25.1,<1.26,>=1.21.1 in /usr/local/lib/python3.6/dist-packages (from requests->transformers) (1.24.3)\n",
      "Requirement already satisfied: s3transfer<0.4.0,>=0.3.0 in /usr/local/lib/python3.6/dist-packages (from boto3->transformers) (0.3.3)\n",
      "Requirement already satisfied: botocore<1.16.0,>=1.15.47 in /usr/local/lib/python3.6/dist-packages (from boto3->transformers) (1.15.47)\n",
      "Requirement already satisfied: jmespath<1.0.0,>=0.7.1 in /usr/local/lib/python3.6/dist-packages (from boto3->transformers) (0.9.5)\n",
      "Requirement already satisfied: python-dateutil<3.0.0,>=2.1 in /usr/local/lib/python3.6/dist-packages (from botocore<1.16.0,>=1.15.47->boto3->transformers) (2.8.1)\n",
      "Requirement already satisfied: docutils<0.16,>=0.10 in /usr/local/lib/python3.6/dist-packages (from botocore<1.16.0,>=1.15.47->boto3->transformers) (0.15.2)\n",
      "Building wheels for collected packages: sacremoses\n",
      "  Building wheel for sacremoses (setup.py) ... \u001b[?25l\u001b[?25hdone\n",
      "  Created wheel for sacremoses: filename=sacremoses-0.0.43-cp36-none-any.whl size=893260 sha256=11113db753a91177b1b279e11355ab4e6ca3708473fa8066bfda76d8faa7cf6b\n",
      "  Stored in directory: /root/.cache/pip/wheels/29/3c/fd/7ce5c3f0666dab31a50123635e6fb5e19ceb42ce38d4e58f45\n",
      "Successfully built sacremoses\n",
      "Installing collected packages: sacremoses, tokenizers, sentencepiece, transformers\n",
      "Successfully installed sacremoses-0.0.43 sentencepiece-0.1.86 tokenizers-0.5.2 transformers-2.8.0\n"
     ]
    }
   ],
   "source": [
    "!pip install transformers"
   ]
  },
  {
   "cell_type": "code",
   "execution_count": 0,
   "metadata": {
    "colab": {},
    "colab_type": "code",
    "id": "Bwypx5-mpIY3"
   },
   "outputs": [],
   "source": [
    "import torch\n",
    "from torch.utils.data import Dataset\n",
    "from torch.utils.data import Dataset, DataLoader\n",
    "from transformers import GPT2Tokenizer, GPT2LMHeadModel, AdamW, get_linear_schedule_with_warmup\n",
    "import numpy as np\n",
    "import os\n",
    "import random"
   ]
  },
  {
   "cell_type": "code",
   "execution_count": 0,
   "metadata": {
    "colab": {},
    "colab_type": "code",
    "id": "76luZPM7p35j"
   },
   "outputs": [],
   "source": [
    "output_dir = \"./drive/My Drive/youtube_gpt2/models\"\n",
    "assert os.path.isdir(output_dir)==True"
   ]
  },
  {
   "cell_type": "code",
   "execution_count": 0,
   "metadata": {
    "colab": {},
    "colab_type": "code",
    "id": "NGexSiioqmbJ"
   },
   "outputs": [],
   "source": [
    "device = 'cpu'\n",
    "if torch.cuda.is_available():\n",
    "    device = 'cuda'"
   ]
  },
  {
   "cell_type": "code",
   "execution_count": 5,
   "metadata": {
    "colab": {
     "base_uri": "https://localhost:8080/",
     "height": 34
    },
    "colab_type": "code",
    "id": "jWiDQOC6XQJY",
    "outputId": "4351fd16-4546-483f-95fd-40bf83ee568f"
   },
   "outputs": [
    {
     "data": {
      "text/plain": [
       "'cuda'"
      ]
     },
     "execution_count": 5,
     "metadata": {
      "tags": []
     },
     "output_type": "execute_result"
    }
   ],
   "source": [
    "device"
   ]
  },
  {
   "cell_type": "code",
   "execution_count": 0,
   "metadata": {
    "colab": {},
    "colab_type": "code",
    "id": "XXuJw5T2qxs1"
   },
   "outputs": [],
   "source": [
    "# tokenizer = GPT2Tokenizer.from_pretrained(\"gpt2\")\n",
    "# model = GPT2LMHeadModel.from_pretrained(\"gpt2\")\n",
    "model = GPT2LMHeadModel.from_pretrained(output_dir)\n",
    "tokenizer = GPT2Tokenizer.from_pretrained(output_dir)\n",
    "model = model.to(device)"
   ]
  },
  {
   "cell_type": "code",
   "execution_count": 0,
   "metadata": {
    "colab": {},
    "colab_type": "code",
    "id": "9pG4IPUsqz75"
   },
   "outputs": [],
   "source": [
    "# tokenizer.pad_token = tokenizer.eos_token"
   ]
  },
  {
   "cell_type": "code",
   "execution_count": 0,
   "metadata": {
    "colab": {},
    "colab_type": "code",
    "id": "m1oAjithq8fb"
   },
   "outputs": [],
   "source": [
    "FILE_PATH = './drive/My Drive/youtube_gpt2/description.txt'\n",
    "assert os.path.exists(FILE_PATH)==True"
   ]
  },
  {
   "cell_type": "code",
   "execution_count": 0,
   "metadata": {
    "colab": {},
    "colab_type": "code",
    "id": "pTH5NooirK5a"
   },
   "outputs": [],
   "source": [
    "from lm import DescriptionData_v2"
   ]
  },
  {
   "cell_type": "code",
   "execution_count": 0,
   "metadata": {
    "colab": {},
    "colab_type": "code",
    "id": "jbLAvi1QsmQ_"
   },
   "outputs": [],
   "source": [
    "dataset = DescriptionData_v2(tokenizer= tokenizer, file_path= FILE_PATH )\n",
    "description_loader = DataLoader(dataset,batch_size=4,shuffle=True)"
   ]
  },
  {
   "cell_type": "code",
   "execution_count": 18,
   "metadata": {
    "colab": {
     "base_uri": "https://localhost:8080/",
     "height": 34
    },
    "colab_type": "code",
    "id": "UZvaq67LYc6s",
    "outputId": "4f72dfd1-79ae-43aa-e5bc-e616bd9aa34c"
   },
   "outputs": [
    {
     "data": {
      "text/plain": [
       "21714"
      ]
     },
     "execution_count": 18,
     "metadata": {
      "tags": []
     },
     "output_type": "execute_result"
    }
   ],
   "source": [
    "len(dataset.examples)"
   ]
  },
  {
   "cell_type": "code",
   "execution_count": 0,
   "metadata": {
    "colab": {},
    "colab_type": "code",
    "id": "Ixrp4jpdsnKP"
   },
   "outputs": [],
   "source": [
    "BATCH_SIZE = 4\n",
    "EPOCHS = 2\n",
    "LEARNING_RATE = 0.00002\n",
    "WARMUP_STEPS = 10000"
   ]
  },
  {
   "cell_type": "code",
   "execution_count": 0,
   "metadata": {
    "colab": {},
    "colab_type": "code",
    "id": "fBABTgJdsq_p"
   },
   "outputs": [],
   "source": [
    "\n",
    "model = model.to(device)\n",
    "model.train()\n",
    "optimizer = AdamW(model.parameters(), lr=LEARNING_RATE)\n",
    "scheduler = get_linear_schedule_with_warmup(optimizer, num_warmup_steps=WARMUP_STEPS, num_training_steps=-1)\n",
    "script_count = 0\n",
    "sum_loss = 0.0\n",
    "batch_count = 0"
   ]
  },
  {
   "cell_type": "code",
   "execution_count": 0,
   "metadata": {
    "colab": {
     "base_uri": "https://localhost:8080/",
     "height": 819
    },
    "colab_type": "code",
    "id": "ead9wtgts5PV",
    "outputId": "29684448-d853-4087-feb0-be3ec6651b87"
   },
   "outputs": [
    {
     "name": "stdout",
     "output_type": "stream",
     "text": [
      "EPOCH 0 started==============================\n"
     ]
    },
    {
     "name": "stderr",
     "output_type": "stream",
     "text": [
      "Setting `pad_token_id` to 50256 (first `eos_token_id`) to generate sequence\n"
     ]
    },
    {
     "name": "stdout",
     "output_type": "stream",
     "text": [
      "sum loss 2172.811767578125\n",
      "Output:\n",
      "----------------------------------------------------------------------------------------------------\n",
      "0:  conjunction this game, even if the only reason for being in the house is for a fun game with the guys.\\n\\nI'm not saying that the show is full of bad choices, I'm saying that the show is filled with good choices from the characters. But those people really helped me make the show worth watching.\\n\\nDon't Forget to Visit The Official Channel: https://www.youtube.com/user/GameOfTheDay\\n\\nFollow me on Twitter: @gumshout1\\nInstagram: @gumshout1\\nTwitter: @GumShout2\\nFacebook: GumShout2\\nTumblr: GumShout\\nSnapchat: GumShout2\\nMore GumShout Videos at GUMshout YouTube Channel!\\n\\nGUMSHOUT  HD\\nGumShout - HD \\nhttp://gumshout.com/videos/11852426\\n\\nGUMSHOUT\\nhttps://youtube.com/gumshout\\nhttps://goo.gl/XvY1hc\\nhttps://instagram.com/gumshout\\nhttps://twitter.com/gumshout\\nhttps://www.reddit.com/r/Gumshout/\\n\\nCheck out more GUMshout videos with some awesome people and exclusives: http://gumshout.com/videos\\n\\nGUMSHOUT 2:\\nhttp://gumshout.com/videos/12353923\\nhttp://gumshout.com/videos/12556634\\nhttp://gumshout.com/videos/12576880\\nhttp://gumshout.com/videos/12658471\\nhttp://gumshout.com/videos/12672928\\nhttps://twitter.com/GumShout/\\n\\nGUMSHOUT 3 HD\\nGumShout 3 HD \\nhttps://youtube.com/GumShout\\nhttps://twitter.com/GumShout\\nhttps://www.reddit.com/r/Gumshout\\n\\nGUMSHOUT 2 \\nhttp://gumshout.com/videos/14693588\\nhttp://gumshout.com/videos/14742935\\nhttp://gumshout.com/videos/14807974\\nhttp://gumshout.com/videos/14880052\\n\\nI also make a lot of awesome toys!\\nIf you liked this, please share it! I would appreciate it if you did :)\\n\\nhttps://patreon.com/GumShout\\n\\nSubscribe to my Youtube channel: https://www.youtube.com/gumshout\\nhttps://www.youtube.com/gumshout-snapchat\\nhttps://www.youtube.com/gumshoutchannel\\n\\nGUMSHOUT-SITE\\nhttps://www.youtube.com/gumshout\\nhttp://gumshout.com/videos\\n\\nDisclaimer: The views expressed on the GUMshout-SITE are solely my own, and don't necessarily reflect those of the official GumShout Channel. My personal opinions on video are my own and they don't necessarily reflect that of GumShout.\\n\\nGumShout - Latest Videos (4) \\nhttps://goo.gl/KjDm6f\\nhttps://goo.gl/6cXuLx\\nhttps://www.youtube.com/gumshout4\n",
      "PANISH SUBSCRIBE - Get a FREE 24/7 home video streaming service, all you need to do is log onto your account and watch live TV, and get exclusive content all over the internet! Subscribe to our channel today! \\n\\nWATCH MORE VIDEOS: https://goo.gl/7V1LUb\\n\\nLike us on FACEBOOK: https://goo.gl/oXvEiA\\n\\nLike us on TWITTER: https://goo.gl/GzXZsC\\n\\nLike us on INSTAGRAM: https://goo.gl/yEoDvz\\n\\nFollow us on TWITTER: https://goo.gl/cGjUuPY\\n\\nLike us on GOOGLE PLAY: https://goo.gl/uHm8R9\\n\\nCheck out our latest videos\n"
     ]
    },
    {
     "name": "stderr",
     "output_type": "stream",
     "text": [
      "Setting `pad_token_id` to 50256 (first `eos_token_id`) to generate sequence\n"
     ]
    },
    {
     "name": "stdout",
     "output_type": "stream",
     "text": [
      "sum loss 2175.030029296875\n",
      "Output:\n",
      "----------------------------------------------------------------------------------------------------\n",
      "0: object with the hashtag #MOVIEINSTAGRAM. #MOVIEINSTAGRAM. #MOVIEINSTAGRAM#MOVIEFACEBOOK. #MOVIEINSTAGRAM#MOVIEINSTAGRAM#MOVIEFACEBOOK. #MOVIEFACEBOOK. #Dumb #MOVIEFACEBOOK. #MOVIEFACEBOOK. #MOVIEFACEBOOK. #MOVIEFACEBOOK #Dumb #MOVIEFACEBOOK. #MOVIEFACEBOOK. #Dumb #MOVIEFACEBOOK. #MOVIEFACEBOOK. #MOVIEFACEBOOK. #MOVIEFACEBOOK. #MOVIEFACEBOOK. #MOVIEFACEBOOK. #MOVIEFACEBOOK. #MOVIEFACEBOOK. #MOVIEFACEBOOK. #MOVIEFACEBOOK. #MOVIEFACEBOOK. #MOVIEFACEBOOK. #MOVIEFACEBOOK. #MOVIEFACEBOOK. #MOVIEFACEBOOK. #MOVIEFACEBOOK. #MOVIEFACEBOOK. #MOVIEFACEBOOK. #MOVIEFACEBOOK. #MOVIEFACEBOOK. #MOVIEFACEBOOK. #MOVIEFACEBOOK. #MOVIEFACEBOOK. #MOVIEFACEBOOK. #MOVIEFACEBOOK. #MOVIEFACEBOOK. #MOVIEFACEBOOK. #MOVIEFACEBOOK. #MOVIEFACEBOOK. #MOVIEFACEBOOK. #MOVIEFACEBOOK. #MOVIEFACEBOOK. #MOVIEFACEBOOK. #MOVIEFACEBOOK. #MOVIEFACEBOOK. #MOVIEFACEBOOK. #MOVIEFACEBOOK. #MOVIEFACEBOOK. #MOVIEFACEBOOK. #MOVIEFACEBOOK. #MOVIEFACEBOOK. #MOVIEFACEBOOK. #MOVIEFACEBOOK. #MOVIEFACEBOOK. #MOVIEFACEBOOK. #MOVIEFACEBOOK. #MOVIEFACEBOOK. #MOVIEFACEBOOK. #MOVIEFACEBOOK. #MOVIEFACEBOOK. #MOVIEFACEBOOK. #MOVIEFACEBOOK. #MOVIEFACEBOOK. #MOVIEFACEBOOK. #MOVIEFACEBOOK. #MOVIEFACEBOOK. #MOVIEFACEBOOK. #MOVIEFACEBOOK. #MOVIEFACEBOOK. #MOVIEFACEBOOK. #MOVIEFACEBOOK. #MOVIEFACEBOOK. #MOVIEFACEBOOK. #MOVIEFACEBOOK. #MOVIEFACEBOOK. #MOVIEFACEBOOK. #MOVIEFACEBOOK. #MOVIEFACEBOOK. #MOVIEFACEBOOK. #MOVIEFACEBOOK. #MOVIEFACEBOOK. #MOVIEFACEBOOK. #MOVIEFACEBOOK. #MOVIEFACEBOOK. #MOVIEFACEBOOK. #MOVIEFACEBOOK. #MOVIEFACEBOOK. #MOVIEFACEBOOK. #MOVIEFACEBOOK. #MOVIEFACEBOOK. #MOVIEFACEBOOK. #MOVIEFACEBOOK. #MOVIEFACEBOOK. #MOVIEFACEBOOK. #MOVIEFACEBOOK. #MOVIEFACEBOOK. #MOVIEFACEBOOK. #MOVIEFACEBOOK. #MOVIEFACEBOOK. #MOVIEFACEBOOK. #MOVIEFACEBOOK. #MOVIEFACEBOOK. #MOVIEFACEBOOK. #MOVIEFACEBOOK. #MOVIEFACEBOOK. #MOVIEFACEBOOK. #MOVIEFACEBOOK. #MOVIEFACEBOOK. #MOVIEFACEBOOK. #MOVIEFACEBOOK. #MOVIEFACEBOOK. #MOVIEFACEBOOK. #MOVIEFACEBOOK. #MOVIEFACEBOOK. #MOVIEFACEBOOK. #MOVIEFACEBOOK. #MOVIEFACEBOOK. #MOVIEFACEBOOK. #MOVIEFACEBOOK. #MOVIEFACEBOOK. #MOVIEFACEBOOK. #MOVIEFACEBOOK. #MOVIEFACEBOOK. #MOVIEFACEBOOK. #MOVIEFACEBOOK. #MOVIEFACEBOOK. #MOVIEFACEBOOK. #MOVIEFACEBOOK. #MOVIEFACEBOOK. #MOVIEFACEBOOK. #MOVIEFACEBOOK. #MOVIEFACEBOOK. #MOVIEFACEBOOK. #MOVIEFACEBOOK. #MOVIEFACEBOOK. #MOVIEFACEBOOK. #MOVIEFACEBOOK\n"
     ]
    },
    {
     "name": "stderr",
     "output_type": "stream",
     "text": [
      "Setting `pad_token_id` to 50256 (first `eos_token_id`) to generate sequence\n"
     ]
    },
    {
     "name": "stdout",
     "output_type": "stream",
     "text": [
      "sum loss 2151.1826171875\n",
      "Output:\n",
      "----------------------------------------------------------------------------------------------------\n",
      "0:  pedest, or any other item that I use when I'm not wearing makeup, or I feel more confident around women.\n",
      "Crazy High Quality Skin Makeup | Cosmetics - Instagram | Chanel - Cosmetics - Instagram | Chanel - Cosmetics - Instagram | Chanel - Cosmetics - Instagram | Chanel - Cosmetics - Instagram | Chanel - Cosmetics - Instagram | Chanel - Cosmetics - Instagram | Chanel - Cosmetics - Instagram | Chanel - Cosmetics - Instagram | Chanel - Cosmetics - Instagram | Chanel - Cosmetics - Instagram | Chanel - Cosmetics - Instagram | Chanel - Cosmetics - Instagram | Chanel - Cosmetics - Instagram | Chanel - Cosmetics - Instagram | Chanel - Cosmetics - Instagram | Chanel - Cosmetics - Instagram | Chanel - Cosmetics - Instagram | Chanel - Cosmetics - Instagram | Chanel - Cosmetics - Instagram | Chanel - Cosmetics - Instagram | Chanel - Cosmetics - Instagram | Chanel - Cosmetics - Instagram | Chanel - Cosmetics - Instagram | Chanel - Cosmetics - Instagram | Chanel - Cosmetics - Instagram | Chanel - Cosmetics - Instagram | Chanel - Cosmetics - Instagram | Chanel - Cosmetics - Instagram | Chanel - Cosmetics - Instagram | Chanel - Cosmetics - Instagram | Chanel - Cosmetics - Instagram | Chanel - Cosmetics - Instagram | Chanel - Cosmetics - Instagram | Chanel - Cosmetics - Instagram | Chanel - Cosmetics - Instagram | Chanel - Cosmetics - Instagram | Chanel - Cosmetics - Instagram | Chanel - Cosmetics - Instagram | Chanel - Cosmetics - Instagram | Chanel - Cosmetics - Instagram | Chanel - Cosmetics - Instagram | Chanel - Cosmetics - Instagram | Chanel - Cosmetics - Instagram | Chanel - Cosmetics - Instagram | Chanel - Cosmetics - Instagram | Chanel - Cosmetics - Instagram | Chanel - Cosmetics - Instagram | Chanel - Cosmetics - Instagram | Chanel - Cosmetics - Instagram | Chanel - Cosmetics - Instagram | Chanel - Cosmetics - Instagram | Chanel - Cosmetics - Instagram | Chanel - Cosmetics - Instagram | Chanel - Cosmetics - Instagram | Chanel - Cosmetics - Instagram | Chanel - Cosmetics - Instagram | Chanel - Cosmetics - Instagram | Chanel - Cosmetics - Instagram | Chanel - Cosmetics - Instagram | Chanel - Cosmetics - Instagram | Chanel - Cosmetics - Instagram | Chanel - Cosmetics - Instagram | Chanel - Cosmetics - Instagram | Chanel - Cosmetics - Instagram | Chanel - Cosmetics - Instagram | Chanel - Cosmetics - Instagram | Chanel - Cosmetics - Instagram | Chanel - Cosmetics - Instagram | Chanel - Cosmetics - Instagram | Chanel - Cosmetics - Instagram | Chanel - Cosmetics - Instagram | Chanel - Cosmetics - Instagram | Chanel - Cosmetics - Instagram | Chanel - Cosmetics - Instagram | Chanel - Cosmetics - Instagram | Chanel - Cosmetics - Instagram | Chanel - Cosmetics - Instagram | Chanel - Cosmetics - Instagram | Chanel - Cosmetics - Instagram | Chanel - Cosmetics - Instagram | Chanel - Cosmetics - Instagram | Chanel - Cosmetics - Instagram | Chanel - Cosmetics - Instagram | Chanel - Cosmetics - Instagram | Chanel - Cosmetics - Instagram | Chanel - Cosmetics - Instagram | Chanel - Cosmetics - Instagram | Chanel - Cosmetics - Instagram | Chanel - Cosmetics - Instagram | Chanel - Cosmetics - Instagram | Chanel - Cosmetics - Instagram | Chanel - Cosmetics - Instagram | Chanel - Cosmetics - Instagram | Chanel - Cosmetics - Instagram | Chanel - Cosmetics - Instagram | Chanel - Cosmetics - Instagram | Chanel - Cosmetics - Instagram | Chanel - Cosmetics - Instagram | Chanel - Cosmetics - Instagram | Chanel - Cosmetics - Instagram | Chanel - Cosmetics - Instagram | Chanel - Cosmetics - Instagram | Chanel - Cosmetics - Instagram | Chanel - Cosmetics - Instagram | Chanel - Cosmetics - Instagram | Chanel - Cosmetics - Instagram | Chanel - Cosmetics - Instagram | Chanel - Cosmetics - Instagram | Chanel - Cosmetics - Instagram | Chanel - Cosmetics - Instagram | Chanel - Cosmetics - Instagram | Chanel - Cosmetics - Instagram | Chanel - Cosmetics - Instagram | Chanel - Cosmetics - Instagram | Chanel - Cosmetics - Instagram | Chanel - Cosmetics - Instagram | Chanel - Cosmetics - Instagram | Chanel - Cosmetics - Instagram | Chanel - Cosmetics - Instagram | Chanel - Cosmetics - Instagram | Chanel\n"
     ]
    },
    {
     "name": "stderr",
     "output_type": "stream",
     "text": [
      "Setting `pad_token_id` to 50256 (first `eos_token_id`) to generate sequence\n"
     ]
    },
    {
     "name": "stdout",
     "output_type": "stream",
     "text": [
      "sum loss 2167.7958984375\n",
      "Output:\n",
      "----------------------------------------------------------------------------------------------------\n",
      "0: Live to join the fun and learn about the game! Subscribe to the league here: http://www.youtube.com/playlist?list=PLJZmCJyHXzdZgJWw5Rc_KmV4UqS0zfB\\n\\nSubscribe! http://bit.ly/2l8nBbj\\n\\nGet Official Merch! http://bit.ly/2nqO2nOy\n",
      "Super Smash Bros. for Wii U – Ultimate Edition | Nintendo just introduced the Wii U Ultimate Edition – for the first time ever! It features a brand new controller and improved gamepad layout, including the new Super Smash Bros. Brawl controller!\\n\\nFor all of you Nintendo fans out there who have been waiting for some awesome video games for years to come, here are some great videos of the Wii U Ultimate Edition:\\nhttps://www.youtube.com/watch?v=3uE5P9gPVHk\\nhttps://www.youtube.com/watch?v=RtO7rNfW3Y0\\nhttps://www.youtube.com/watch?v=rEoIxFh7dYE\\nhttps://www.youtube.com/watch?v=6DzBh3RgC5w&list=PLJZmCJyHXzdZgJWw5Rc_KmV4UqS0zfB\\n\\nConnect with us in the AppStore!\\nhttp://www.mobile.co/Nintendo-Business/\\n\\nFollow us on Twitter! http://twitter.com/NintendoBusiness\\nhttp://www.facebook.com/Nintendo\\nhttp://www.instagram.com/NintendoBusiness\\n\\nGet the Nintendo Switch and GamePad Starter Pack for $10!\\nhttps://www.amazon.com/gp/product/B02J5KW_5QVW?___store=intro&add=refi\n",
      "Kawaii Swimwear! A Star Wars Story from the Star Wars Celebration - Episode 8 - 2018 | Today we're sharing a peek behind the scenes into the Disney Parks. We spoke with Jennifer and David with their official Disney Parks Facebook page, and we wanted to show off all the details. Check out the full story here: https://www.facebook.com/StarWarsOfficialPark?IQid=1324297969584089&showID=5&viewid=12&type=3&show=true&subId=939761370\n",
      "SOCIAL NETWORKING, AIMEDIA AND BEAUTY | How to start your day with a good idea | A quick introduction to social networking.\n",
      "KURT WEISBERG ON BRAND NEW FAN WEST CHANNEL | Our Facebook page for our new new flagship channel! https://www.facebook.com/Kurstweb! - Subscribe to us here: https://www.youtube.com/Patreon?...\\n\\nAbout Us\\n\\nI live and work in Silicon Valley.  I am a software entrepreneur, social scientist and entrepreneur who has lived and worked in the U.K., Switzerland and Germany for almost a decade.  I founded and run a popular video platform called Vlog.  I enjoy doing comedy as much as writing.  I am a passionate entrepreneur, writer, entrepreneur, entrepreneur, founder of 3D-printed products, a global network manager and creator of over 190+ products.  My business, my social media, my social events, and my YouTube show are all focused on bringing attention to my amazing new channel, “Culture of Culture”, on which I offer guests and insight into my personal and professional life.\\nFor more than 12 years I have lived and worked as an entrepreneur, social scientist, entrepreneur, entrepreneur, entrepreneur, entrepreneur, entrepreneur entrepreneur, entrepreneur entrepreneur, entrepreneur, entrepreneur, entrepreneur, entrepreneur, entrepreneur, entrepreneur, entrepreneur, entrepreneur, entrepreneur, entrepreneur, entrepreneur, entrepreneur, entrepreneur, entrepreneur, entrepreneur, entrepreneur, entrepreneur, entrepreneur, entrepreneur, entrepreneur, entrepreneur, entrepreneur, entrepreneur, entrepreneur, entrepreneur, entrepreneur, entrepreneur, entrepreneur, entrepreneur, entrepreneur, entrepreneur, entrepreneur, entrepreneurial, entrepreneur, entrepreneur, entrepreneur, entrepreneurial, entrepreneur, entrepreneur, entrepreneur, entrepreneur, entrepreneur, entrepreneur, entrepreneur, entrepreneur, entrepreneur, entrepreneur, entrepreneur, entrepreneur, entrepreneur, entrepreneur, entrepreneur, entrepreneur, entrepreneur, entrepreneur, entrepreneur, entrepreneur, entrepreneur, entrepreneur, entrepreneur, entrepreneur, entrepreneur, entrepreneurial, entrepreneur, entrepreneur, entrepreneurial, entrepreneur, entrepreneur, entrepreneur, entrepreneur, entrepreneur, entrepreneur, entrepreneur, entrepreneur, entrepreneur, entrepreneur, entrepreneur, entrepreneur, entrepreneur\n"
     ]
    },
    {
     "name": "stderr",
     "output_type": "stream",
     "text": [
      "Setting `pad_token_id` to 50256 (first `eos_token_id`) to generate sequence\n"
     ]
    },
    {
     "name": "stdout",
     "output_type": "stream",
     "text": [
      "sum loss 2174.31787109375\n",
      "Output:\n",
      "----------------------------------------------------------------------------------------------------\n",
      "0:  membrnophila and Ehrlichia\\n• Hernia sinensis, an endemic fungus\\n• Gheriya magnifica, an endemic tree in northern Asia\\n• Tarragonia annuum, an endemic plant in Japan\\n• Tarragonia tarduilla\\n• Mycobacterium acutis, an endemic green-leaf bug\\n• Mitellidae, an endemic tree in India\\n• Hypertricis africanum, an endemic tree in eastern Asia\\n• Cetacellobacterium praecum\\n• Hypertrophylla pescanaria, an endemic tree in northern Greece\\n• Sclerotox-disex, an endemic red plant in Africa\\n• Clostridia africanum, an endemic tree in China\\n• Daphnia mite, an endemic plant in the northern hemisphere\\n• Istamylococcus pachydermata, an endemic green-leaf bug\\n• Svalbardia sinensis, an endemic tree in northern China\\n• Dacoccus aureus, an endemic tree in northern Europe\\n• Mycoplasma, an endemic green-leaf beetle\\n• Mina corynsis, an endemic yellow plant in Central and South America\\n• Micepis americanum, an endemic tree in eastern Asia\\n• Rascoma acutis, an endemic yellow-crested plant in eastern Asia\\n• Dacoccus pachydermata, an endemic green-leaf bug\\n• Svalbardia sinensis\\n• Spermatysis, an endemic yellow-crested plant in Central and South America\\n• Dacoccus aureus, an endemic green-leaf bug\\n• Spermatysis annuum\\n• Mycoplasma, an endemic green-leaf beetle\\n• Svalbardia sinensis\\n• Dacoccus pachydermata, an endemic green-leaf bug\\n• Svalbardia sinensis \n",
      "Cinematography and Videography:  \\n\\nGorgeous, beautiful, exciting, full of surprises.\\n\\nhttps://youtu.be/bG4gLQ-H_cM?list=PLY-3b4eB-3f4f-3fc2-b3737d6c4a5-1\\n\\nGorgeous\\n\\nhttps://youtu.be/i0K1fJmz3q3?list=PLY-3b4eB-3fb4f-3fc2-b3737d6c4a5-1\\n\\nGorgeous\\nhttps://youtu.be/ySrDd-ZdPX4?list=PLY-3b4eB-3fb4f-3fc2-b3737d6c4a5-1\\n\\nGorgeous\\nhttps://youtu.be/2cKVxRd1k4?list=PLY-3b4eB-3fb4f-3fc2-b3737d6c4a5-1\\n\\nGorgeous\\nhttps://youtu.be/mjVfRp5dUg?list=PLY-3b4eB-3fb4f-3fc2-b3737d6c4a5-1\\n\\nLogan G. G. Romero - The Life of Steve Reich | https://www.youtube.com/user/SteveSchneider/videos\\n\\nhttps://youtu.be/X-1c-0IqR8_k?list=PLY-3b4eB-3fb4f-3fc2-b3737d6c4a5-1\\n\\n#TheBest\n",
      "Hola #80 - Hona #50 - Hona #80 2018-02-04 | https://www.youtube.com/playlist?list=PLY-3b4eB-3fb4f-3fc2-b3737d6c4a5-1\\n\\nOfficial Hona #80 Music Video:\\nhttps://www.youtube.com/playlist?list=PLY-3b4eB-3fb4f-3fc2-b3737d6c4a5-1\\n\\nOfficial Hona #80 Movie Trailer:\\nhttps://www.youtube.com/playlist?list=PLY-\n"
     ]
    },
    {
     "name": "stderr",
     "output_type": "stream",
     "text": [
      "Setting `pad_token_id` to 50256 (first `eos_token_id`) to generate sequence\n"
     ]
    },
    {
     "name": "stdout",
     "output_type": "stream",
     "text": [
      "sum loss 2169.78173828125\n",
      "Output:\n",
      "----------------------------------------------------------------------------------------------------\n",
      "0:  pants is definitely a popular option! You'll be able to find one on sale in your local store or online! (Just click on the link below to see a full price on the next page.)\\nhttp://bit.ly/1j3qj8Y \\nhttps://store.brosoftware.com/\\n\\nShips with PayPal: \\nhttp://bit.ly/S7nYHf \\nhttp://bit.ly/4dY3Dv \\n\\nAbout Brosoftware:\\n\\n\\nThe Bosom brand is known for pioneering the use of innovative high-tech products and products by its employees. We deliver innovative products for our customers in a variety of industries. Additionally, we provide products to more than 60 brands around the world!\\nWe rely on you to build the highest quality products for us and our customers and drive our growth. Brosoftware makes the products we use the most informed, the most effective and the most innovative in every situation. We rely on your help to make sure that what we believe to be good happens! \\n\\nAbout Bosom Technology:\\n\\nBosom technology is the latest, the next and the best in the home screen, audio and video gaming. With Bosom gaming technology you get an immersive 3D gaming experience all your own!\\nFor 3D gaming, Bosom technology employs two controllers: the Sony Alpha Pro and the Samsung Gear VR 2.\\nFor a 3D experience, you'll have a 3D printed gaming monitor, a gaming keyboard and a Sony Elite Wireless Keyboard! We're partnering with the Sony to deliver a new product line: the Sony G-Sync Gaming Gaming Tablet.\\n\\nFor more information about Bosom Technology visit: http://bit.ly/1vXxHfD\\n\\nBrosom is headquartered in Toronto, Canada. We deliver software to over 2.5 million worldwide devices using software engineering, mobile systems, and enterprise solutions. Our team includes award-winning mobile devices such as the Samsung Galaxy S8, the LG G3, Samsung Galaxy S8+, the LG G Flex, the OnePlus One, and Google Pixel. Our products can take an average of 10 hours of sleep and 10 minutes of gaming time. We use all of the latest technologies in business, entertainment, health, business and sport. You can find us on social media platforms: Facebook, Twitter, Instagram, Pinterest, Snapchat, Google+, Google+ and on our website.\\n\\n\\nAbout Brosoftware:\\n\\nBrosoftware is a leading provider of high quality software solutions for the home, business and scientific communities. Our products include games such as Call of Duty, Grand Theft Auto V, Madden NFL, Half Life 3, FIFA 16, Super Mario Run and more. We build products that revolutionize home and industrial designs, provide education, and empower the minds of professionals around the globe to be better informed about how their products affect the world around them. Our products empower you to change your home design without the hassle, the hassle of choosing an incorrect design, or the hassle of creating a design that is new, different or unique to the original design you've always wanted. You get all of the latest technologies with only one click of a button, without the hassle of finding an existing design you really love and buying a different design. What we do is build products that allow you to think differently about your products, and get to the point where you can change the way you think about your products with minimal hassle.\n",
      "The Black Mirror Trailer For The First Time | WATCH THE FIRST TUMBLR REVEALED!\\n\\nWatch The Trailer for The First Time here:\\nhttp://www.youtube.com/watch?v=zB3GzX-wT1s0\\n\\nWatch The Trailer: http://www.youtube.com/watch?v=z-j6nHzKqPzI\\n\\nWatch Full Episodes:\\nhttp://bit.ly/1s7D6gC\\n\\nEpisode 12:\\n\\nThe Black Mirror Trailer: http://bit.ly/1VyzXBX\\nEpisode 13:\\n\\nCast:\\n\\nBen:  http://www.youtube.com/watch?v=VzY7_zV_2W0\\n\\nJosh:  http://www.youtube.com/watch?v=VZ_JQzqT_wE\\n\\nJoe:  http://www.youtube.com/watch?v=XHZnQXjU-5m\\n\\nMusic:\\n\\nThe One I’m With\n",
      "EPOCH 1 started==============================\n"
     ]
    },
    {
     "name": "stderr",
     "output_type": "stream",
     "text": [
      "Setting `pad_token_id` to 50256 (first `eos_token_id`) to generate sequence\n"
     ]
    },
    {
     "name": "stdout",
     "output_type": "stream",
     "text": [
      "sum loss 2155.379150390625\n",
      "Output:\n",
      "----------------------------------------------------------------------------------------------------\n",
      "0:  38.981 + 0.7\\n\\nConnect with YouTube:\\nhttp://youtube.com/c/CJLW9B8Jg\\nhttp://youtube.com/c/FVHDsPQ\\nhttp://youtube.com/c/2RjDp6xN\\n\\nLike us on Facebook:\\nhttps://www.facebook.com/cjlw9b8jg\\nhttp://facebook.com/c/CJLW9B8Jg/videos/50372677709526\\nhttp://facebook.com/c/CJLW9B8Jg\\n\\nCheck out more great videos of JLW9B8Jg:\\n\\nhttp://www.youtube.com/user/TheFiftyBunNY\\nhttp://www.youtube.com/user/MrJLW9B8Jg\\nhttp://www.youtube.com/c/FVHDsPQ\\n\\nLike us on Twitter:\\nhttp://twitter.com/CJLW9B8Jg\\nhttp://twitter.com/CJLW9B8Jg\\nhttp://twitter.com/CJLW9B8Jg\\nhttp://twitter.com/CJLW9B8Jg\\nhttp://twitter.com/CJLW9B8Jg\\nhttp://twitter.com/CJLW9B8Jg\\n\\nCheck out more awesome videos of JLW9B8Jg:\\n\\nhttp://www.youtube.com/user/TheFiftyBunNY\\nhttp://www.youtube.com/user/MrJLW9B8Jg\\nhttp://www.youtube.com/c/FVHDsPQ\\n\\nGet more JLW9B8Jg:\\n\\n\\nCheck out a variety of amazing videos that will give you a better sense of where to look and feel.\\n\\nConnect with us:\\nhttp://youtube.com/c/CJLW9B8Jg\\nhttp://youtube.com/c/TheFiftyBunNY\\nhttp://youtube.com/c/CJLW9B8Jg\\nhttp://youtube.com/c/FVHDsPQ\\nhttp://youtube.com/c/FVHDsPQ\\n\\nConnect with us on Instagram:\\nhttp://www.instagram.com/cjlw9b8jg\\nhttp://www.instagram.com/cjlw9b8jg/videos/17171814356845\\nhttp://www.instagram.com/c/c/c/cjlw9b8jg\\nhttp://www.instagram.com/c/c/c/c/cjlw9b8jg\\nhttp://www.instagram.com/c/c/c/c/c/cjlw9b8jg\\n\\nCheck out some cool stuff happening in the world of video games:\\nhttp://www.youtube.com/watch?v=Hx3P_1lHt3I\\nhttp://www.youtube.com/watch?v=6FxBc3VzZKc\\nhttp://www.youtube.com/watch?v=yJqFyqYVhC\\nhttp://www.youtube.com/watch?v=h4Vx_fK1CeE\\nhttp://www.youtube.com/watch?v=2u_fKw1O3Q0\\n\\nYou're probably wondering how JLW9B8Jg got a contract to make a couple of videos out of the video game industry. Now you know. Let's go and get our hands dirty.\\n\\nListen to more of JLW9B8Jg:\\nhttp://www.youtube.com/watch?v=8BmTj3uJ9Y8\\nhttp://www.youtube.com/watch?v=KdHs3J1jM4\\nhttp://www.youtube.com/watch?v=3GnSq7R-nY\\nhttp://www.youtube.com/watch?v=dN8_vO9h8Y\\nhttp://www.youtube.com/watch?v=3u_f\n"
     ]
    }
   ],
   "source": [
    "for epoch in range(EPOCHS):\n",
    "    print(f\"EPOCH {epoch} started\" + '=' * 30)\n",
    "    for idx,script in enumerate(description_loader):\n",
    "        outputs = model(script.to(device), labels=script.to(device))\n",
    "        \n",
    "        loss, logits = outputs[:2]                        \n",
    "        loss.backward()\n",
    "        sum_loss = sum_loss + loss.detach().data\n",
    "                       \n",
    "        script_count = script_count + 1\n",
    "\n",
    "        if script_count == BATCH_SIZE:\n",
    "            script_count = 0    \n",
    "            batch_count += 1\n",
    "            optimizer.step()\n",
    "            scheduler.step() \n",
    "            optimizer.zero_grad()\n",
    "            model.zero_grad()\n",
    "            \n",
    "        if batch_count == 200:\n",
    "            model.eval()\n",
    "            print(f\"sum loss {sum_loss}\")\n",
    "            sample_outputs = model.generate(\n",
    "                                    bos_token_id=random.randint(1,30000),\n",
    "                                    do_sample=True,   \n",
    "                                    top_k=50, \n",
    "                                    max_length = 1000,\n",
    "                                    top_p=0.95, \n",
    "                                    num_return_sequences=1\n",
    "                                )\n",
    "\n",
    "            print(\"Output:\\n\" + 100 * '-')\n",
    "            for i, sample_output in enumerate(sample_outputs):\n",
    "                  print(\"{}: {}\".format(i, tokenizer.decode(sample_output, skip_special_tokens=True)))\n",
    "            \n",
    "            batch_count = 0\n",
    "            sum_loss = 0.0\n",
    "            model.train()"
   ]
  },
  {
   "cell_type": "code",
   "execution_count": 24,
   "metadata": {
    "colab": {
     "base_uri": "https://localhost:8080/",
     "height": 51
    },
    "colab_type": "code",
    "id": "NLX2uVD0s90F",
    "outputId": "3298aa0d-1a90-4b09-cb48-2474bd106517"
   },
   "outputs": [
    {
     "data": {
      "text/plain": [
       "('./drive/My Drive/youtube_gpt2/models/vocab.json',\n",
       " './drive/My Drive/youtube_gpt2/models/merges.txt')"
      ]
     },
     "execution_count": 24,
     "metadata": {
      "tags": []
     },
     "output_type": "execute_result"
    }
   ],
   "source": [
    "from transformers import WEIGHTS_NAME, CONFIG_NAME\n",
    "output_model_file = os.path.join(output_dir, WEIGHTS_NAME)\n",
    "output_config_file = os.path.join(output_dir, CONFIG_NAME)\n",
    "\n",
    "torch.save(model.state_dict(), output_model_file)\n",
    "model.config.to_json_file(output_config_file)\n",
    "tokenizer.save_vocabulary(output_dir)"
   ]
  },
  {
   "cell_type": "code",
   "execution_count": 0,
   "metadata": {
    "colab": {},
    "colab_type": "code",
    "id": "uWuyA5Sx4lv3"
   },
   "outputs": [],
   "source": [
    "model = GPT2LMHeadModel.from_pretrained(output_dir)\n",
    "tokenizer = GPT2Tokenizer.from_pretrained(output_dir)"
   ]
  },
  {
   "cell_type": "code",
   "execution_count": 0,
   "metadata": {
    "colab": {},
    "colab_type": "code",
    "id": "WK6g_ZWTG9vQ"
   },
   "outputs": [],
   "source": [
    "input_ids = tokenizer.encode('John Lewis Christmas Ad 2017', return_tensors='pt')"
   ]
  },
  {
   "cell_type": "code",
   "execution_count": 28,
   "metadata": {
    "colab": {
     "base_uri": "https://localhost:8080/",
     "height": 1000
    },
    "colab_type": "code",
    "id": "OYfI6_EnHSFa",
    "outputId": "ead83b91-d4cc-44fa-aea1-519d83c59976"
   },
   "outputs": [
    {
     "data": {
      "text/plain": [
       "GPT2LMHeadModel(\n",
       "  (transformer): GPT2Model(\n",
       "    (wte): Embedding(50257, 768)\n",
       "    (wpe): Embedding(1024, 768)\n",
       "    (drop): Dropout(p=0.1, inplace=False)\n",
       "    (h): ModuleList(\n",
       "      (0): Block(\n",
       "        (ln_1): LayerNorm((768,), eps=1e-05, elementwise_affine=True)\n",
       "        (attn): Attention(\n",
       "          (c_attn): Conv1D()\n",
       "          (c_proj): Conv1D()\n",
       "          (attn_dropout): Dropout(p=0.1, inplace=False)\n",
       "          (resid_dropout): Dropout(p=0.1, inplace=False)\n",
       "        )\n",
       "        (ln_2): LayerNorm((768,), eps=1e-05, elementwise_affine=True)\n",
       "        (mlp): MLP(\n",
       "          (c_fc): Conv1D()\n",
       "          (c_proj): Conv1D()\n",
       "          (dropout): Dropout(p=0.1, inplace=False)\n",
       "        )\n",
       "      )\n",
       "      (1): Block(\n",
       "        (ln_1): LayerNorm((768,), eps=1e-05, elementwise_affine=True)\n",
       "        (attn): Attention(\n",
       "          (c_attn): Conv1D()\n",
       "          (c_proj): Conv1D()\n",
       "          (attn_dropout): Dropout(p=0.1, inplace=False)\n",
       "          (resid_dropout): Dropout(p=0.1, inplace=False)\n",
       "        )\n",
       "        (ln_2): LayerNorm((768,), eps=1e-05, elementwise_affine=True)\n",
       "        (mlp): MLP(\n",
       "          (c_fc): Conv1D()\n",
       "          (c_proj): Conv1D()\n",
       "          (dropout): Dropout(p=0.1, inplace=False)\n",
       "        )\n",
       "      )\n",
       "      (2): Block(\n",
       "        (ln_1): LayerNorm((768,), eps=1e-05, elementwise_affine=True)\n",
       "        (attn): Attention(\n",
       "          (c_attn): Conv1D()\n",
       "          (c_proj): Conv1D()\n",
       "          (attn_dropout): Dropout(p=0.1, inplace=False)\n",
       "          (resid_dropout): Dropout(p=0.1, inplace=False)\n",
       "        )\n",
       "        (ln_2): LayerNorm((768,), eps=1e-05, elementwise_affine=True)\n",
       "        (mlp): MLP(\n",
       "          (c_fc): Conv1D()\n",
       "          (c_proj): Conv1D()\n",
       "          (dropout): Dropout(p=0.1, inplace=False)\n",
       "        )\n",
       "      )\n",
       "      (3): Block(\n",
       "        (ln_1): LayerNorm((768,), eps=1e-05, elementwise_affine=True)\n",
       "        (attn): Attention(\n",
       "          (c_attn): Conv1D()\n",
       "          (c_proj): Conv1D()\n",
       "          (attn_dropout): Dropout(p=0.1, inplace=False)\n",
       "          (resid_dropout): Dropout(p=0.1, inplace=False)\n",
       "        )\n",
       "        (ln_2): LayerNorm((768,), eps=1e-05, elementwise_affine=True)\n",
       "        (mlp): MLP(\n",
       "          (c_fc): Conv1D()\n",
       "          (c_proj): Conv1D()\n",
       "          (dropout): Dropout(p=0.1, inplace=False)\n",
       "        )\n",
       "      )\n",
       "      (4): Block(\n",
       "        (ln_1): LayerNorm((768,), eps=1e-05, elementwise_affine=True)\n",
       "        (attn): Attention(\n",
       "          (c_attn): Conv1D()\n",
       "          (c_proj): Conv1D()\n",
       "          (attn_dropout): Dropout(p=0.1, inplace=False)\n",
       "          (resid_dropout): Dropout(p=0.1, inplace=False)\n",
       "        )\n",
       "        (ln_2): LayerNorm((768,), eps=1e-05, elementwise_affine=True)\n",
       "        (mlp): MLP(\n",
       "          (c_fc): Conv1D()\n",
       "          (c_proj): Conv1D()\n",
       "          (dropout): Dropout(p=0.1, inplace=False)\n",
       "        )\n",
       "      )\n",
       "      (5): Block(\n",
       "        (ln_1): LayerNorm((768,), eps=1e-05, elementwise_affine=True)\n",
       "        (attn): Attention(\n",
       "          (c_attn): Conv1D()\n",
       "          (c_proj): Conv1D()\n",
       "          (attn_dropout): Dropout(p=0.1, inplace=False)\n",
       "          (resid_dropout): Dropout(p=0.1, inplace=False)\n",
       "        )\n",
       "        (ln_2): LayerNorm((768,), eps=1e-05, elementwise_affine=True)\n",
       "        (mlp): MLP(\n",
       "          (c_fc): Conv1D()\n",
       "          (c_proj): Conv1D()\n",
       "          (dropout): Dropout(p=0.1, inplace=False)\n",
       "        )\n",
       "      )\n",
       "      (6): Block(\n",
       "        (ln_1): LayerNorm((768,), eps=1e-05, elementwise_affine=True)\n",
       "        (attn): Attention(\n",
       "          (c_attn): Conv1D()\n",
       "          (c_proj): Conv1D()\n",
       "          (attn_dropout): Dropout(p=0.1, inplace=False)\n",
       "          (resid_dropout): Dropout(p=0.1, inplace=False)\n",
       "        )\n",
       "        (ln_2): LayerNorm((768,), eps=1e-05, elementwise_affine=True)\n",
       "        (mlp): MLP(\n",
       "          (c_fc): Conv1D()\n",
       "          (c_proj): Conv1D()\n",
       "          (dropout): Dropout(p=0.1, inplace=False)\n",
       "        )\n",
       "      )\n",
       "      (7): Block(\n",
       "        (ln_1): LayerNorm((768,), eps=1e-05, elementwise_affine=True)\n",
       "        (attn): Attention(\n",
       "          (c_attn): Conv1D()\n",
       "          (c_proj): Conv1D()\n",
       "          (attn_dropout): Dropout(p=0.1, inplace=False)\n",
       "          (resid_dropout): Dropout(p=0.1, inplace=False)\n",
       "        )\n",
       "        (ln_2): LayerNorm((768,), eps=1e-05, elementwise_affine=True)\n",
       "        (mlp): MLP(\n",
       "          (c_fc): Conv1D()\n",
       "          (c_proj): Conv1D()\n",
       "          (dropout): Dropout(p=0.1, inplace=False)\n",
       "        )\n",
       "      )\n",
       "      (8): Block(\n",
       "        (ln_1): LayerNorm((768,), eps=1e-05, elementwise_affine=True)\n",
       "        (attn): Attention(\n",
       "          (c_attn): Conv1D()\n",
       "          (c_proj): Conv1D()\n",
       "          (attn_dropout): Dropout(p=0.1, inplace=False)\n",
       "          (resid_dropout): Dropout(p=0.1, inplace=False)\n",
       "        )\n",
       "        (ln_2): LayerNorm((768,), eps=1e-05, elementwise_affine=True)\n",
       "        (mlp): MLP(\n",
       "          (c_fc): Conv1D()\n",
       "          (c_proj): Conv1D()\n",
       "          (dropout): Dropout(p=0.1, inplace=False)\n",
       "        )\n",
       "      )\n",
       "      (9): Block(\n",
       "        (ln_1): LayerNorm((768,), eps=1e-05, elementwise_affine=True)\n",
       "        (attn): Attention(\n",
       "          (c_attn): Conv1D()\n",
       "          (c_proj): Conv1D()\n",
       "          (attn_dropout): Dropout(p=0.1, inplace=False)\n",
       "          (resid_dropout): Dropout(p=0.1, inplace=False)\n",
       "        )\n",
       "        (ln_2): LayerNorm((768,), eps=1e-05, elementwise_affine=True)\n",
       "        (mlp): MLP(\n",
       "          (c_fc): Conv1D()\n",
       "          (c_proj): Conv1D()\n",
       "          (dropout): Dropout(p=0.1, inplace=False)\n",
       "        )\n",
       "      )\n",
       "      (10): Block(\n",
       "        (ln_1): LayerNorm((768,), eps=1e-05, elementwise_affine=True)\n",
       "        (attn): Attention(\n",
       "          (c_attn): Conv1D()\n",
       "          (c_proj): Conv1D()\n",
       "          (attn_dropout): Dropout(p=0.1, inplace=False)\n",
       "          (resid_dropout): Dropout(p=0.1, inplace=False)\n",
       "        )\n",
       "        (ln_2): LayerNorm((768,), eps=1e-05, elementwise_affine=True)\n",
       "        (mlp): MLP(\n",
       "          (c_fc): Conv1D()\n",
       "          (c_proj): Conv1D()\n",
       "          (dropout): Dropout(p=0.1, inplace=False)\n",
       "        )\n",
       "      )\n",
       "      (11): Block(\n",
       "        (ln_1): LayerNorm((768,), eps=1e-05, elementwise_affine=True)\n",
       "        (attn): Attention(\n",
       "          (c_attn): Conv1D()\n",
       "          (c_proj): Conv1D()\n",
       "          (attn_dropout): Dropout(p=0.1, inplace=False)\n",
       "          (resid_dropout): Dropout(p=0.1, inplace=False)\n",
       "        )\n",
       "        (ln_2): LayerNorm((768,), eps=1e-05, elementwise_affine=True)\n",
       "        (mlp): MLP(\n",
       "          (c_fc): Conv1D()\n",
       "          (c_proj): Conv1D()\n",
       "          (dropout): Dropout(p=0.1, inplace=False)\n",
       "        )\n",
       "      )\n",
       "    )\n",
       "    (ln_f): LayerNorm((768,), eps=1e-05, elementwise_affine=True)\n",
       "  )\n",
       "  (lm_head): Linear(in_features=768, out_features=50257, bias=False)\n",
       ")"
      ]
     },
     "execution_count": 28,
     "metadata": {
      "tags": []
     },
     "output_type": "execute_result"
    }
   ],
   "source": [
    "model.eval()"
   ]
  },
  {
   "cell_type": "code",
   "execution_count": 29,
   "metadata": {
    "colab": {
     "base_uri": "https://localhost:8080/",
     "height": 139
    },
    "colab_type": "code",
    "id": "Ztxzpxq9HTfp",
    "outputId": "c0c9bcbf-7c6a-49f6-c589-e5b9aa994fd9"
   },
   "outputs": [
    {
     "name": "stderr",
     "output_type": "stream",
     "text": [
      "Setting `pad_token_id` to 50256 (first `eos_token_id`) to generate sequence\n"
     ]
    },
    {
     "name": "stdout",
     "output_type": "stream",
     "text": [
      "Output:\n",
      "----------------------------------------------------------------------------------------------------\n",
      "0: John Lewis Christmas Ad 2017\\nhttps://www.youtube.com/playlist?list=PLgXQXQxQxQxQxQxQxQxQxQxQxQxQxQxQxQxQxQxQxQxQxQxQxQxQxQxQxQxQxQxQxQxQxQxQxQxQxQxQxQxQxQxQxQxQxQxQxQxQxQxQxQxQxQxQxQxQxQxQxQxQxQxQxQxQxQxQxQxQxQxQxQxQxQxQxQxQxQxQxQxQxQxQxQxQxQxQxQxQxQxQxQxQxQxQxQxQxQxQxQxQxQxQxQxQxQxQxQxQxQxQxQxQxQxQxQxQxQxQxQxQxQxQxQxQxQxQxQxQxQxQxQxQxQxQxQxQxQxQxQxQxQxQxQxQxQxQxQxQxQxQxQxQxQxQxQxQxQxQxQxQxQxQxQxQxQxQxQxQxQxQxQxQxQxQxQxQxQxQxQxQxQxQxQxQxQxQxQxQxQxQxQxQxQxQxQxQxQxQxQxQxQxQxQxQxQxQxQxQxQxQxQxQxQxQxQxQxQxQxQxQxQxQxQxQxQxQxQxQxQxQxQxQxQxQxQxQxQxQxQxQxQxQxQxQxQxQxQxQxQxQxQxQxQxQxQxQxQxQxQxQxQxQxQxQxQxQxQxQxQxQxQxQxQxQxQxQxQxQxQxQxQxQxQxQxQxQxQxQxQxQxQxQxQxQxQxQxQxQxQxQxQxQxQxQxQxQxQxQxQxQxQxQxQxQxQxQxQxQxQxQxQxQxQxQxQxQxQxQxQxQxQxQxQxQxQxQxQxQxQxQxQxQxQxQxQxQxQxQxQxQxQxQxQxQxQxQxQxQxQxQxQxQxQxQxQxQxQxQxQxQxQxQxQxQxQxQxQxQxQxQxQxQxQxQxQxQxQxQxQxQxQxQxQxQxQxQxQxQxQxQxQxQxQxQxQxQxQxQxQxQxQxQxQxQxQxQxQxQxQxQxQxQxQxQxQxQxQxQxQxQxQxQxQxQxQxQxQxQxQxQxQxQxQxQxQxQxQxQxQxQxQxQxQxQxQxQxQxQxQxQxQxQxQxQxQxQxQxQxQxQxQxQxQxQxQxQxQxQxQxQxQxQxQxQxQxQxQxQ\n",
      "1: John Lewis Christmas Ad 2017\\nhttps://www.youtube.com/playlist?list=PLgXQXQxQxQxQxQxQQxQxQxQxQxQxQxQxQxQxQxQxQxQxQxQxQxQxQxQxQxQxQxQxQxQxQxQxQxQxQxQxQxQxQxQxQxQxQxQxQxQxQxQxQxQxQxQxQxQxQxQxQxQxQxQxQxQxQxQxQxQxQxQxQxQxQxQxQxQxQxQxQxQxQxQxQxQxQxQxQxQxQxQxQxQxQxQxQxQxQxQxQxQxQxQxQxQxQxQxQxQxQxQxQxQxQxQxQxQxQxQxQxQxQxQxQxQxQxQxQxQxQxQxQxQxQxQxQxQxQxQxQxQxQxQxQxQxQxQxQxQxQxQxQxQxQxQxQxQxQxQxQxQxQxQxQxQxQxQxQxQxQxQxQxQxQxQxQxQxQxQxQxQxQxQxQxQxQxQxQxQxQxQxQxQxQxQxQxQxQxQxQxQxQxQxQxQxQxQxQxQxQxQxQxQxQxQxQxQxQxQxQxQxQxQxQxQxQxQxQxQxQxQxQxQxQxQxQxQxQxQxQxQxQxQxQxQxQxQxQxQxQxQxQxQxQxQxQxQxQxQxQxQxQxQxQxQxQxQxQxQxQxQxQxQxQxQxQxQxQxQxQxQxQxQxQxQxQxQxQxQxQxQxQxQxQxQxQxQxQxQxQxQxQxQxQxQxQxQxQxQxQxQxQxQxQxQxQxQxQxQxQxQxQxQxQxQxQxQxQxQxQxQxQxQxQxQxQxQxQxQxQxQxQxQxQxQxQxQxQxQxQxQxQxQxQxQxQxQxQxQxQxQxQxQxQxQxQxQxQxQxQxQxQxQxQxQxQxQxQxQxQxQxQxQxQxQxQxQxQxQxQxQxQxQxQxQxQxQxQxQxQxQxQxQxQxQxQxQxQxQxQxQxQxQxQxQxQxQxQxQxQxQxQxQxQxQxQxQxQxQxQxQxQxQxQxQxQxQxQxQxQxQxQxQxQxQxQxQxQxQxQxQxQxQxQxQxQxQxQxQxQxQxQxQxQxQxQxQxQxQxQxQxQxQxQxQxQxQxQxQxQxQxQxQxQxQxQxQxQxQx\n",
      "2: John Lewis Christmas Ad 2017\\nhttps://www.youtube.com/playlist?list=PLpWXQXQxQxQxQxQxQxQxQxQxQxQxQxQxQxQxQxQxQxQxQxQxQxQxQxQxQxQxQxQxQxQxQxQxQxQxQxQxQxQxQxQxQxQxQxQxQxQxQxQxQxQxQxQxQxQxQxQxQxQxQxQxQxQxQxQxQxQxQxQxQxQxQxQxQxQxQxQxQxQxQxQxQxQxQxQxQxQxQxQxQxQxQxQxQxQxQxQxQxQxQxQxQxQxQxQxQxQxQxQxQxQxQxQxQxQxQxQxQxQxQxQxQxQxQxQxQxQxQxQxQxQxQxQxQxQxQxQxQxQxQxQxQxQxQxQxQxQxQxQxQxQxQxQxQxQxQxQxQxQxQxQxQxQxQxQxQxQxQxQxQxQxQxQxQxQxQxQxQxQxQxQxQxQxQxQxQxQxQxQxQxQxQxQxQxQxQxQxQxQxQxQxQxQxQxQxQxQxQxQxQxQxQxQxQxQxQxQxQxQxQxQxQxQxQxQxQxQxQxQxQxQxQxQxQxQxQxQxQxQxQxQxQxQxQxQxQxQxQxQxQxQxQxQxQxQxQxQxQxQxQxQxQxQxQxQxQxQxQxQxQxQxQxQxQxQxQxQxQxQxQxQxQxQxQxQxQxQxQxQxQxQxQxQxQxQxQxQxQxQxQxQxQxQxQxQxQxQxQxQxQxQxQxQxQxQxQxQxQxQxQxQxQxQxQxQxQxQxQxQxQxQxQxQxQxQxQxQxQxQxQxQxQxQxQxQxQxQxQxQxQxQxQxQxQxQxQxQxQxQxQxQxQxQxQxQxQxQxQxQxQxQxQxQxQxQxQxQxQxQxQxQxQxQxQxQxQxQxQxQxQxQxQxQxQxQxQxQxQxQxQxQxQxQxQxQxQxQxQxQxQxQxQxQxQxQxQxQxQxQxQxQxQxQxQxQxQxQxQxQxQxQxQxQxQxQxQxQxQxQxQxQxQxQxQxQxQxQxQxQxQxQxQxQxQxQxQxQxQxQxQxQxQxQxQxQxQxQxQxQxQxQxQxQxQxQxQxQxQxQxQxQxQxQxQxQxQxQx\n"
     ]
    }
   ],
   "source": [
    "sample_outputs = model.generate(\n",
    "                        input_ids= input_ids,\n",
    "                        num_beams= 5,\n",
    "                        max_length = 1000,\n",
    "                        top_p=0.85, \n",
    "                        num_return_sequences=3\n",
    "                    )\n",
    "\n",
    "print(\"Output:\\n\" + 100 * '-')\n",
    "for i, sample_output in enumerate(sample_outputs):\n",
    "      print(\"{}: {}\".format(i, tokenizer.decode(sample_output, skip_special_tokens=True)))"
   ]
  },
  {
   "cell_type": "code",
   "execution_count": 0,
   "metadata": {
    "colab": {},
    "colab_type": "code",
    "id": "bIg09Cv6HWCf"
   },
   "outputs": [],
   "source": []
  }
 ],
 "metadata": {
  "accelerator": "GPU",
  "colab": {
   "collapsed_sections": [],
   "machine_shape": "hm",
   "name": "GPT2.ipynb",
   "provenance": [],
   "toc_visible": true
  },
  "kernelspec": {
   "display_name": "Python 3",
   "language": "python",
   "name": "python3"
  },
  "language_info": {
   "codemirror_mode": {
    "name": "ipython",
    "version": 3
   },
   "file_extension": ".py",
   "mimetype": "text/x-python",
   "name": "python",
   "nbconvert_exporter": "python",
   "pygments_lexer": "ipython3",
   "version": "3.7.6"
  }
 },
 "nbformat": 4,
 "nbformat_minor": 1
}
